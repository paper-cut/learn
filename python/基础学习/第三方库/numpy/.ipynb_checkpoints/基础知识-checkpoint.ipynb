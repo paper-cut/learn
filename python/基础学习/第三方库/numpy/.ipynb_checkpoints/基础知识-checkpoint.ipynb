{
 "cells": [
  {
   "cell_type": "markdown",
   "id": "a324e9d0",
   "metadata": {},
   "source": [
    "# 基础知识"
   ]
  },
  {
   "cell_type": "markdown",
   "id": "70a684d1",
   "metadata": {},
   "source": [
    "## 列表属性"
   ]
  },
  {
   "cell_type": "code",
   "execution_count": 1,
   "id": "e9176c1a",
   "metadata": {},
   "outputs": [],
   "source": [
    "import numpy as np"
   ]
  },
  {
   "cell_type": "markdown",
   "id": "136d0fb2",
   "metadata": {},
   "source": [
    "导入numpy第三方库"
   ]
  },
  {
   "cell_type": "code",
   "execution_count": 8,
   "id": "84b5fa4b",
   "metadata": {},
   "outputs": [],
   "source": [
    "arr=np.arange(30)"
   ]
  },
  {
   "cell_type": "markdown",
   "id": "4247d13b",
   "metadata": {},
   "source": [
    "此处先创建一个数列，供后面使用方便"
   ]
  },
  {
   "cell_type": "code",
   "execution_count": 9,
   "id": "768d9022",
   "metadata": {},
   "outputs": [
    {
     "data": {
      "text/plain": [
       "1"
      ]
     },
     "execution_count": 9,
     "metadata": {},
     "output_type": "execute_result"
    }
   ],
   "source": [
    "arr.ndim"
   ]
  },
  {
   "cell_type": "markdown",
   "id": "cdc71bbb",
   "metadata": {},
   "source": [
    "ndim属性，显示数组的维度数量"
   ]
  },
  {
   "cell_type": "code",
   "execution_count": 10,
   "id": "5cdfef9e",
   "metadata": {},
   "outputs": [
    {
     "data": {
      "text/plain": [
       "(30,)"
      ]
     },
     "execution_count": 10,
     "metadata": {},
     "output_type": "execute_result"
    }
   ],
   "source": [
    "arr.shape"
   ]
  },
  {
   "cell_type": "markdown",
   "id": "c490e699",
   "metadata": {},
   "source": [
    "shape属性，显示数组的维度，再如下"
   ]
  },
  {
   "cell_type": "code",
   "execution_count": 11,
   "id": "9cd9049e",
   "metadata": {},
   "outputs": [
    {
     "data": {
      "text/plain": [
       "30"
      ]
     },
     "execution_count": 11,
     "metadata": {},
     "output_type": "execute_result"
    }
   ],
   "source": [
    "arr.size"
   ]
  },
  {
   "cell_type": "markdown",
   "id": "426e49a9",
   "metadata": {},
   "source": [
    "size属性，显示数组的大小"
   ]
  },
  {
   "cell_type": "code",
   "execution_count": 12,
   "id": "90d8eb39",
   "metadata": {},
   "outputs": [
    {
     "data": {
      "text/plain": [
       "dtype('int32')"
      ]
     },
     "execution_count": 12,
     "metadata": {},
     "output_type": "execute_result"
    }
   ],
   "source": [
    "arr.dtype"
   ]
  },
  {
   "cell_type": "markdown",
   "id": "e4c7a4af",
   "metadata": {},
   "source": [
    "dtype属性，显示数组中的数据类型"
   ]
  },
  {
   "cell_type": "code",
   "execution_count": 13,
   "id": "46c770aa",
   "metadata": {},
   "outputs": [
    {
     "data": {
      "text/plain": [
       "4"
      ]
     },
     "execution_count": 13,
     "metadata": {},
     "output_type": "execute_result"
    }
   ],
   "source": [
    "arr.itemsize"
   ]
  },
  {
   "cell_type": "markdown",
   "id": "6e391593",
   "metadata": {},
   "source": [
    "itemsize属性，显示数组中元素的字节大小"
   ]
  },
  {
   "cell_type": "code",
   "execution_count": 14,
   "id": "b700fc9c",
   "metadata": {},
   "outputs": [
    {
     "data": {
      "text/plain": [
       "<memory at 0x000001DC34007C40>"
      ]
     },
     "execution_count": 14,
     "metadata": {},
     "output_type": "execute_result"
    }
   ],
   "source": [
    "arr.data"
   ]
  },
  {
   "cell_type": "markdown",
   "id": "9db01f8d",
   "metadata": {},
   "source": [
    "我们一般不使用这个属性"
   ]
  },
  {
   "cell_type": "markdown",
   "id": "684b5a3d",
   "metadata": {},
   "source": [
    "## 数组创建"
   ]
  },
  {
   "cell_type": "markdown",
   "id": "50f2767b",
   "metadata": {},
   "source": [
    "### 1.从原始的python中的列表或元组中创建数组"
   ]
  },
  {
   "cell_type": "code",
   "execution_count": 2,
   "id": "3de66bbd",
   "metadata": {},
   "outputs": [],
   "source": [
    "import numpy as np"
   ]
  },
  {
   "cell_type": "code",
   "execution_count": 3,
   "id": "4ac115d1",
   "metadata": {},
   "outputs": [
    {
     "data": {
      "text/plain": [
       "array([1, 2, 3])"
      ]
     },
     "execution_count": 3,
     "metadata": {},
     "output_type": "execute_result"
    }
   ],
   "source": [
    "np.array([1,2,3])"
   ]
  },
  {
   "cell_type": "code",
   "execution_count": 4,
   "id": "2ed1c20c",
   "metadata": {},
   "outputs": [
    {
     "data": {
      "text/plain": [
       "array([2, 3, 4])"
      ]
     },
     "execution_count": 4,
     "metadata": {},
     "output_type": "execute_result"
    }
   ],
   "source": [
    "np.array((2,3,4))"
   ]
  },
  {
   "cell_type": "markdown",
   "id": "ae400a1c",
   "metadata": {},
   "source": [
    "此处常见的错误是创建数组的时候直接传入数字参数"
   ]
  },
  {
   "cell_type": "code",
   "execution_count": 6,
   "id": "2adb2c97",
   "metadata": {},
   "outputs": [
    {
     "ename": "TypeError",
     "evalue": "array() takes from 1 to 2 positional arguments but 3 were given",
     "output_type": "error",
     "traceback": [
      "\u001b[1;31m---------------------------------------------------------------------------\u001b[0m",
      "\u001b[1;31mTypeError\u001b[0m                                 Traceback (most recent call last)",
      "\u001b[1;32m~\\AppData\\Local\\Temp/ipykernel_11440/2986120601.py\u001b[0m in \u001b[0;36m<module>\u001b[1;34m\u001b[0m\n\u001b[1;32m----> 1\u001b[1;33m \u001b[0mnp\u001b[0m\u001b[1;33m.\u001b[0m\u001b[0marray\u001b[0m\u001b[1;33m(\u001b[0m\u001b[1;36m2\u001b[0m\u001b[1;33m,\u001b[0m\u001b[1;36m3\u001b[0m\u001b[1;33m,\u001b[0m\u001b[1;36m4\u001b[0m\u001b[1;33m)\u001b[0m \u001b[1;31m## 这里是错的\u001b[0m\u001b[1;33m\u001b[0m\u001b[1;33m\u001b[0m\u001b[0m\n\u001b[0m",
      "\u001b[1;31mTypeError\u001b[0m: array() takes from 1 to 2 positional arguments but 3 were given"
     ]
    }
   ],
   "source": [
    "np.array(2,3,4) ## 这里是错的"
   ]
  },
  {
   "cell_type": "code",
   "execution_count": 8,
   "id": "8eca31e1",
   "metadata": {},
   "outputs": [
    {
     "data": {
      "text/plain": [
       "array([[2, 3],\n",
       "       [4, 5]])"
      ]
     },
     "execution_count": 8,
     "metadata": {},
     "output_type": "execute_result"
    }
   ],
   "source": [
    "np.array([[2,3],[4,5]])"
   ]
  },
  {
   "cell_type": "markdown",
   "id": "a4292144",
   "metadata": {},
   "source": [
    "还可以创建多维的数组"
   ]
  },
  {
   "cell_type": "code",
   "execution_count": 11,
   "id": "51273cec",
   "metadata": {},
   "outputs": [
    {
     "data": {
      "text/plain": [
       "array([[2., 3.],\n",
       "       [4., 5.]])"
      ]
     },
     "execution_count": 11,
     "metadata": {},
     "output_type": "execute_result"
    }
   ],
   "source": [
    "np.array([[2,3],[4,5]],dtype=float)"
   ]
  },
  {
   "cell_type": "markdown",
   "id": "696b046d",
   "metadata": {},
   "source": [
    "可以在创建数组的时候预设元素类型"
   ]
  },
  {
   "cell_type": "markdown",
   "id": "211b7a50",
   "metadata": {},
   "source": [
    "### 2.创建占位符的元素"
   ]
  },
  {
   "cell_type": "markdown",
   "id": "85079604",
   "metadata": {},
   "source": [
    "对于一些已知数组的大小，但是对具体的内容还不确定的数组，可以通过几个函数先创建具有初始占位符的数组"
   ]
  },
  {
   "cell_type": "code",
   "execution_count": 12,
   "id": "b1e85da8",
   "metadata": {},
   "outputs": [
    {
     "data": {
      "text/plain": [
       "array([[1., 1., 1., 1.],\n",
       "       [1., 1., 1., 1.],\n",
       "       [1., 1., 1., 1.]])"
      ]
     },
     "execution_count": 12,
     "metadata": {},
     "output_type": "execute_result"
    }
   ],
   "source": [
    "np.ones((3,4))"
   ]
  },
  {
   "cell_type": "code",
   "execution_count": 13,
   "id": "82efa71d",
   "metadata": {},
   "outputs": [
    {
     "data": {
      "text/plain": [
       "array([[0.],\n",
       "       [0.]])"
      ]
     },
     "execution_count": 13,
     "metadata": {},
     "output_type": "execute_result"
    }
   ],
   "source": [
    "np.zeros([2,1])"
   ]
  },
  {
   "cell_type": "code",
   "execution_count": 18,
   "id": "cfcfdf40",
   "metadata": {},
   "outputs": [
    {
     "data": {
      "text/plain": [
       "array([[0.00000000e+000, 0.00000000e+000, 0.00000000e+000],\n",
       "       [0.00000000e+000, 0.00000000e+000, 8.08291397e-321],\n",
       "       [1.97345609e-312, 1.24610383e-306, 3.17320232e-317]])"
      ]
     },
     "execution_count": 18,
     "metadata": {},
     "output_type": "execute_result"
    }
   ],
   "source": [
    "np.empty([3,3])"
   ]
  },
  {
   "cell_type": "markdown",
   "id": "5d1dc493",
   "metadata": {},
   "source": [
    "empty创建的是具有随机初始值的数组"
   ]
  },
  {
   "cell_type": "markdown",
   "id": "3d6792be",
   "metadata": {},
   "source": [
    "### 3.创建数字数组"
   ]
  },
  {
   "cell_type": "code",
   "execution_count": 20,
   "id": "1cb57074",
   "metadata": {},
   "outputs": [
    {
     "data": {
      "text/plain": [
       "array([5, 6, 7, 8, 9])"
      ]
     },
     "execution_count": 20,
     "metadata": {},
     "output_type": "execute_result"
    }
   ],
   "source": [
    "np.arange(5,10)"
   ]
  },
  {
   "cell_type": "code",
   "execution_count": 21,
   "id": "03703bcb",
   "metadata": {},
   "outputs": [
    {
     "data": {
      "text/plain": [
       "array([0, 1, 2, 3, 4])"
      ]
     },
     "execution_count": 21,
     "metadata": {},
     "output_type": "execute_result"
    }
   ],
   "source": [
    "np.arange(5)"
   ]
  },
  {
   "cell_type": "markdown",
   "id": "5760423a",
   "metadata": {},
   "source": [
    "上面是两种比较简单的创建方法"
   ]
  },
  {
   "cell_type": "code",
   "execution_count": 23,
   "id": "cde2bf8b",
   "metadata": {},
   "outputs": [
    {
     "data": {
      "text/plain": [
       "array([10, 15, 20, 25])"
      ]
     },
     "execution_count": 23,
     "metadata": {},
     "output_type": "execute_result"
    }
   ],
   "source": [
    "np.arange(10,30,5)"
   ]
  },
  {
   "cell_type": "code",
   "execution_count": 24,
   "id": "2f6f0329",
   "metadata": {},
   "outputs": [
    {
     "data": {
      "text/plain": [
       "array([0. , 0.5, 1. , 1.5])"
      ]
     },
     "execution_count": 24,
     "metadata": {},
     "output_type": "execute_result"
    }
   ],
   "source": [
    "np.arange(0,2,0.5)"
   ]
  },
  {
   "cell_type": "markdown",
   "id": "a3072642",
   "metadata": {},
   "source": [
    "上面两种可以设定元素间的间隔大小"
   ]
  },
  {
   "cell_type": "markdown",
   "id": "7ec32b25",
   "metadata": {},
   "source": [
    "arange函数终究在float元素类型无法预测所获得元素的数量，可以使用linspace这一函数"
   ]
  },
  {
   "cell_type": "code",
   "execution_count": 1,
   "id": "fe6f14a2",
   "metadata": {},
   "outputs": [
    {
     "ename": "NameError",
     "evalue": "name 'np' is not defined",
     "output_type": "error",
     "traceback": [
      "\u001b[1;31m---------------------------------------------------------------------------\u001b[0m",
      "\u001b[1;31mNameError\u001b[0m                                 Traceback (most recent call last)",
      "\u001b[1;32m~\\AppData\\Local\\Temp/ipykernel_23596/3561487572.py\u001b[0m in \u001b[0;36m<module>\u001b[1;34m\u001b[0m\n\u001b[1;32m----> 1\u001b[1;33m \u001b[0mnp\u001b[0m\u001b[1;33m.\u001b[0m\u001b[0mlinspace\u001b[0m\u001b[1;33m(\u001b[0m\u001b[1;36m0\u001b[0m\u001b[1;33m,\u001b[0m\u001b[1;36m2\u001b[0m\u001b[1;33m,\u001b[0m\u001b[1;36m9\u001b[0m\u001b[1;33m)\u001b[0m\u001b[1;33m\u001b[0m\u001b[1;33m\u001b[0m\u001b[0m\n\u001b[0m",
      "\u001b[1;31mNameError\u001b[0m: name 'np' is not defined"
     ]
    }
   ],
   "source": [
    "np.linspace(0,2,9)"
   ]
  },
  {
   "cell_type": "markdown",
   "id": "0de001b0",
   "metadata": {},
   "source": [
    "如此可以直接确定创建的数组中的元素数量"
   ]
  },
  {
   "cell_type": "markdown",
   "id": "19738f4d",
   "metadata": {},
   "source": [
    "## 数组打印"
   ]
  },
  {
   "cell_type": "code",
   "execution_count": 2,
   "id": "e2d47435",
   "metadata": {},
   "outputs": [
    {
     "ename": "NameError",
     "evalue": "name 'array' is not defined",
     "output_type": "error",
     "traceback": [
      "\u001b[1;31m---------------------------------------------------------------------------\u001b[0m",
      "\u001b[1;31mNameError\u001b[0m                                 Traceback (most recent call last)",
      "\u001b[1;32m~\\AppData\\Local\\Temp/ipykernel_23596/3930403823.py\u001b[0m in \u001b[0;36m<module>\u001b[1;34m\u001b[0m\n\u001b[1;32m----> 1\u001b[1;33m \u001b[0mprint\u001b[0m\u001b[1;33m(\u001b[0m\u001b[0marray\u001b[0m\u001b[1;33m)\u001b[0m\u001b[1;33m\u001b[0m\u001b[1;33m\u001b[0m\u001b[0m\n\u001b[0m",
      "\u001b[1;31mNameError\u001b[0m: name 'array' is not defined"
     ]
    }
   ],
   "source": [
    "print(array)"
   ]
  },
  {
   "cell_type": "markdown",
   "id": "edbd9d8f",
   "metadata": {},
   "source": [
    "可以直接通过print语句来输出数组"
   ]
  },
  {
   "cell_type": "markdown",
   "id": "9879a5f3",
   "metadata": {},
   "source": [
    "## 基本操作"
   ]
  },
  {
   "cell_type": "code",
   "execution_count": 3,
   "id": "51571fa4",
   "metadata": {},
   "outputs": [],
   "source": [
    "import numpy as np"
   ]
  },
  {
   "cell_type": "code",
   "execution_count": 5,
   "id": "ef9d38ca",
   "metadata": {},
   "outputs": [],
   "source": [
    "a=np.array([20,30,40,40])"
   ]
  },
  {
   "cell_type": "code",
   "execution_count": 6,
   "id": "c85c7b1a",
   "metadata": {},
   "outputs": [],
   "source": [
    "b=np.arange(4)"
   ]
  },
  {
   "cell_type": "code",
   "execution_count": 8,
   "id": "f3df5adb",
   "metadata": {},
   "outputs": [
    {
     "data": {
      "text/plain": [
       "array([0, 1, 2, 3])"
      ]
     },
     "execution_count": 8,
     "metadata": {},
     "output_type": "execute_result"
    }
   ],
   "source": [
    "b"
   ]
  },
  {
   "cell_type": "code",
   "execution_count": 10,
   "id": "ab958a9b",
   "metadata": {},
   "outputs": [],
   "source": [
    "c=a-b"
   ]
  },
  {
   "cell_type": "code",
   "execution_count": 11,
   "id": "4d56267f",
   "metadata": {},
   "outputs": [
    {
     "data": {
      "text/plain": [
       "array([20, 29, 38, 37])"
      ]
     },
     "execution_count": 11,
     "metadata": {},
     "output_type": "execute_result"
    }
   ],
   "source": [
    "c"
   ]
  },
  {
   "cell_type": "markdown",
   "id": "0a2191e7",
   "metadata": {},
   "source": [
    "减法操作在两个数组形状相同的情况下，可以实现一对一的减法"
   ]
  },
  {
   "cell_type": "code",
   "execution_count": 13,
   "id": "4f00a1cf",
   "metadata": {},
   "outputs": [
    {
     "data": {
      "text/plain": [
       "array([0, 1, 4, 9], dtype=int32)"
      ]
     },
     "execution_count": 13,
     "metadata": {},
     "output_type": "execute_result"
    }
   ],
   "source": [
    "b**2"
   ]
  },
  {
   "cell_type": "code",
   "execution_count": 14,
   "id": "03d58b78",
   "metadata": {},
   "outputs": [
    {
     "data": {
      "text/plain": [
       "array([  0,  30,  80, 120])"
      ]
     },
     "execution_count": 14,
     "metadata": {},
     "output_type": "execute_result"
    }
   ],
   "source": [
    "b*a"
   ]
  },
  {
   "cell_type": "markdown",
   "id": "3ab607b7",
   "metadata": {},
   "source": [
    "乘法对于直接乘以一个常数和两个数组相乘都可以起到作用"
   ]
  },
  {
   "cell_type": "code",
   "execution_count": 15,
   "id": "4661c564",
   "metadata": {},
   "outputs": [],
   "source": [
    "A=np.array([[1,1],[0,1]])"
   ]
  },
  {
   "cell_type": "code",
   "execution_count": 16,
   "id": "7fb5358d",
   "metadata": {},
   "outputs": [],
   "source": [
    "B=np.array([[2,0],[3,4]])"
   ]
  },
  {
   "cell_type": "code",
   "execution_count": 17,
   "id": "acbbb911",
   "metadata": {},
   "outputs": [
    {
     "data": {
      "text/plain": [
       "array([[2, 0],\n",
       "       [0, 4]])"
      ]
     },
     "execution_count": 17,
     "metadata": {},
     "output_type": "execute_result"
    }
   ],
   "source": [
    "A*B"
   ]
  },
  {
   "cell_type": "code",
   "execution_count": 18,
   "id": "0077c50f",
   "metadata": {},
   "outputs": [
    {
     "data": {
      "text/plain": [
       "array([[5, 4],\n",
       "       [3, 4]])"
      ]
     },
     "execution_count": 18,
     "metadata": {},
     "output_type": "execute_result"
    }
   ],
   "source": [
    "A@B"
   ]
  },
  {
   "cell_type": "code",
   "execution_count": 19,
   "id": "9e86d005",
   "metadata": {},
   "outputs": [
    {
     "data": {
      "text/plain": [
       "array([[5, 4],\n",
       "       [3, 4]])"
      ]
     },
     "execution_count": 19,
     "metadata": {},
     "output_type": "execute_result"
    }
   ],
   "source": [
    "A.dot(B)"
   ]
  },
  {
   "cell_type": "markdown",
   "id": "bf9422ff",
   "metadata": {},
   "source": [
    "矩阵乘法可以通过@或者dot方法来实现"
   ]
  },
  {
   "cell_type": "code",
   "execution_count": 20,
   "id": "07e354c7",
   "metadata": {},
   "outputs": [],
   "source": [
    "a=np.ones([2,3],dtype=int)"
   ]
  },
  {
   "cell_type": "code",
   "execution_count": 23,
   "id": "9187384a",
   "metadata": {},
   "outputs": [],
   "source": [
    "a*=3"
   ]
  },
  {
   "cell_type": "code",
   "execution_count": 24,
   "id": "874235ab",
   "metadata": {},
   "outputs": [
    {
     "data": {
      "text/plain": [
       "array([[27, 27, 27],\n",
       "       [27, 27, 27]])"
      ]
     },
     "execution_count": 24,
     "metadata": {},
     "output_type": "execute_result"
    }
   ],
   "source": [
    "a"
   ]
  },
  {
   "cell_type": "markdown",
   "id": "e87e6913",
   "metadata": {},
   "source": [
    "有些运算符，比如*=或者+=会直接修改被操作的数组而不会产生新的数组"
   ]
  },
  {
   "cell_type": "code",
   "execution_count": null,
   "id": "b6d7db22",
   "metadata": {},
   "outputs": [],
   "source": []
  }
 ],
 "metadata": {
  "kernelspec": {
   "display_name": "Python 3 (ipykernel)",
   "language": "python",
   "name": "python3"
  },
  "language_info": {
   "codemirror_mode": {
    "name": "ipython",
    "version": 3
   },
   "file_extension": ".py",
   "mimetype": "text/x-python",
   "name": "python",
   "nbconvert_exporter": "python",
   "pygments_lexer": "ipython3",
   "version": "3.8.12"
  }
 },
 "nbformat": 4,
 "nbformat_minor": 5
}
